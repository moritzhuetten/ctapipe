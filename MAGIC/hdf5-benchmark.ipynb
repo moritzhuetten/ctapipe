{
 "cells": [
  {
   "cell_type": "markdown",
   "metadata": {},
   "source": [
    "# Quick HDF5 benchmarks\n",
    "from https://cyrille.rossant.net/moving-away-hdf5/"
   ]
  },
  {
   "cell_type": "markdown",
   "metadata": {},
   "source": [
    "We compare the performance of reading a subset of a large array:\n",
    "* in memory with NumPy\n",
    "* with h5py\n",
    "* with memmap using an HDF5 file\n",
    "* with memmap using an NPY file\n",
    "\n",
    "This illustrates our performance issues with HDF5 in our very particular use case (accessing a small number of lines in a large \"vertical\" rectangular array)."
   ]
  },
  {
   "cell_type": "code",
   "execution_count": 1,
   "metadata": {},
   "outputs": [],
   "source": [
    "import h5py\n",
    "import numpy as np"
   ]
  },
  {
   "cell_type": "markdown",
   "metadata": {},
   "source": [
    "We'll use this function to bypass the slow h5py data access with a faster memory mapping (only works on uncompressed contiguous datasets):"
   ]
  },
  {
   "cell_type": "code",
   "execution_count": 2,
   "metadata": {},
   "outputs": [],
   "source": [
    "def _mmap_h5(path, h5path):\n",
    "    with h5py.File(path) as f:\n",
    "        ds = f[h5path]\n",
    "        # We get the dataset address in the HDF5 fiel.\n",
    "        offset = ds.id.get_offset()\n",
    "        # We ensure we have a non-compressed contiguous array.\n",
    "        assert ds.chunks is None\n",
    "        assert ds.compression is None\n",
    "        assert offset > 0\n",
    "        dtype = ds.dtype\n",
    "        shape = ds.shape\n",
    "    arr = np.memmap(path, mode='r', shape=shape, offset=offset, dtype=dtype)\n",
    "    return arr"
   ]
  },
  {
   "cell_type": "markdown",
   "metadata": {},
   "source": [
    "We read the files to compare:"
   ]
  },
  {
   "cell_type": "code",
   "execution_count": 3,
   "metadata": {},
   "outputs": [],
   "source": [
    "fname_nozipped = '/remote/ceph/group/magic/MAGIC-LST/ctapipe/CrabNebula/Calibrated/2018_03_09/20180309_05070968_Y_CrabNebula-W0.40+215.hdf5'\n",
    "\n",
    "f_nozipped = h5py.File(fname_nozipped, 'r')\n",
    "f_zipped = h5py.File('/remote/ceph/group/magic/MAGIC-LST/ctapipe/CrabNebula/Calibrated/2018_03_09/20180309_05070968_Y_CrabNebula-W0.40+215.gz.hdf5', 'r')\n",
    "\n",
    "image = f_nozipped['/dl1/tel1/image'][:]\n",
    "#f_nozipped.close()\n",
    "#print(arr.shape)"
   ]
  },
  {
   "cell_type": "markdown",
   "metadata": {},
   "source": [
    "Write numpy array to comparison"
   ]
  },
  {
   "cell_type": "code",
   "execution_count": 4,
   "metadata": {},
   "outputs": [],
   "source": [
    "np.save('test.npy', image)"
   ]
  },
  {
   "cell_type": "code",
   "execution_count": 6,
   "metadata": {},
   "outputs": [
    {
     "name": "stdout",
     "output_type": "stream",
     "text": [
      "total 1.6G\r\n",
      "-rw-r--r-- 1 mhuetten magic 879K Oct  2 09:01 star2hdf5_checkpointing.ipynb\r\n",
      "-rw-r--r-- 1 mhuetten magic  16K Nov  6 10:45 merpp2hdf5.ipynb\r\n",
      "-rw-r--r-- 1 mhuetten magic  42K Nov  6 10:45 sorcerer2hdf5_deprecated.ipynb\r\n",
      "-rwxr-xr-x 1 mhuetten magic 7.9K Nov  6 11:36 \u001b[0m\u001b[01;32mhdf5-benchmark.ipynb\u001b[0m*\r\n",
      "-rw-r--r-- 1 mhuetten magic  39K Nov  6 12:29 sorcerer2hdf5.py\r\n",
      "-rw-r--r-- 1 mhuetten magic 1.6G Nov  6 16:11 test.npy\r\n"
     ]
    }
   ],
   "source": [
    "%ls -lrth"
   ]
  },
  {
   "cell_type": "markdown",
   "metadata": {},
   "source": [
    "## Slices"
   ]
  },
  {
   "cell_type": "code",
   "execution_count": 9,
   "metadata": {},
   "outputs": [],
   "source": [
    "ind = 12654"
   ]
  },
  {
   "cell_type": "code",
   "execution_count": 10,
   "metadata": {},
   "outputs": [
    {
     "name": "stdout",
     "output_type": "stream",
     "text": [
      "in memory\n",
      "1.25 µs ± 23 ns per loop (mean ± std. dev. of 7 runs, 1000000 loops each)\n",
      "\n",
      "h5py\n",
      "222 µs ± 3.42 µs per loop (mean ± std. dev. of 7 runs, 1000 loops each)\n",
      "\n",
      "h5py compressed\n",
      "43 ms ± 284 µs per loop (mean ± std. dev. of 7 runs, 10 loops each)\n",
      "\n",
      "memmap of uncompressed HDF5 file\n",
      "1.51 ms ± 54.3 µs per loop (mean ± std. dev. of 7 runs, 1000 loops each)\n",
      "\n",
      "memmap of NPY file\n",
      "540 ms ± 2.38 ms per loop (mean ± std. dev. of 7 runs, 1 loop each)\n"
     ]
    }
   ],
   "source": [
    "print('in memory')\n",
    "%timeit image[ind] * 1\n",
    "print()\n",
    "print('h5py')\n",
    "%timeit f_nozipped['/dl1/tel1/image'][ind] * 1\n",
    "print()\n",
    "print('h5py compressed')\n",
    "%timeit f_zipped['/dl1/tel1/image'][ind] * 1\n",
    "print()\n",
    "print('memmap of uncompressed HDF5 file')\n",
    "%timeit _mmap_h5(fname_nozipped, '/dl1/tel1/image')[ind] * 1\n",
    "print()\n",
    "print('memmap of NPY file')\n",
    "%timeit np.load('test.npy')[ind] * 1"
   ]
  },
  {
   "cell_type": "markdown",
   "metadata": {},
   "source": [
    "## Fancy indexing"
   ]
  },
  {
   "cell_type": "markdown",
   "metadata": {},
   "source": [
    "Fancy indexing is what we have to use in our particular use-case."
   ]
  },
  {
   "cell_type": "code",
   "execution_count": 13,
   "metadata": {},
   "outputs": [],
   "source": [
    "ind = np.unique(np.random.randint(0, n, n // 100))"
   ]
  },
  {
   "cell_type": "code",
   "execution_count": 15,
   "metadata": {},
   "outputs": [
    {
     "data": {
      "text/plain": [
       "999"
      ]
     },
     "execution_count": 15,
     "metadata": {},
     "output_type": "execute_result"
    }
   ],
   "source": [
    "len(ind)"
   ]
  },
  {
   "cell_type": "code",
   "execution_count": 16,
   "metadata": {},
   "outputs": [
    {
     "name": "stdout",
     "output_type": "stream",
     "text": [
      "in memory\n",
      "100 loops, best of 3: 2.05 ms per loop\n",
      "\n",
      "h5py\n",
      "10 loops, best of 3: 53.3 ms per loop\n",
      "\n",
      "memmap of HDF5 file\n",
      "100 loops, best of 3: 5.62 ms per loop\n",
      "\n",
      "memmap of NPY file\n",
      "100 loops, best of 3: 5.12 ms per loop\n"
     ]
    }
   ],
   "source": [
    "print('in memory')\n",
    "%timeit arr[ind, :] * 1\n",
    "print()\n",
    "print('h5py')\n",
    "%timeit f['/test'][ind, :] * 1\n",
    "print()\n",
    "print('memmap of HDF5 file')\n",
    "%timeit _mmap_h5('test.h5', '/test')[ind, :] * 1\n",
    "print()\n",
    "print('memmap of NPY file')\n",
    "%timeit np.load('test.npy', mmap_mode='r')[ind, :] * 1"
   ]
  },
  {
   "cell_type": "markdown",
   "metadata": {},
   "source": [
    "Note that h5py uses a [slow algorithm for fancy indexing](https://gist.github.com/rossant/7b4704e8caeb8f173084#gistcomment-1665072), so HDF5 is not the only cause of the slowdown."
   ]
  }
 ],
 "metadata": {
  "kernelspec": {
   "display_name": "Python [conda env:cta-dev]",
   "language": "python",
   "name": "conda-env-cta-dev-py"
  },
  "language_info": {
   "codemirror_mode": {
    "name": "ipython",
    "version": 3
   },
   "file_extension": ".py",
   "mimetype": "text/x-python",
   "name": "python",
   "nbconvert_exporter": "python",
   "pygments_lexer": "ipython3",
   "version": "3.6.6"
  },
  "varInspector": {
   "cols": {
    "lenName": 16,
    "lenType": 16,
    "lenVar": 40
   },
   "kernels_config": {
    "python": {
     "delete_cmd_postfix": "",
     "delete_cmd_prefix": "del ",
     "library": "var_list.py",
     "varRefreshCmd": "print(var_dic_list())"
    },
    "r": {
     "delete_cmd_postfix": ") ",
     "delete_cmd_prefix": "rm(",
     "library": "var_list.r",
     "varRefreshCmd": "cat(var_dic_list()) "
    }
   },
   "types_to_exclude": [
    "module",
    "function",
    "builtin_function_or_method",
    "instance",
    "_Feature"
   ],
   "window_display": false
  }
 },
 "nbformat": 4,
 "nbformat_minor": 1
}
